{
 "cells": [
  {
   "cell_type": "code",
   "execution_count": null,
   "id": "2c80b1fa-9ee6-485e-a1f8-93557ae39144",
   "metadata": {},
   "outputs": [],
   "source": [
    "import numpy as np\n",
    "import cv2  as cv\n",
    "from matplotlib import pyplot as plt"
   ]
  },
  {
   "cell_type": "code",
   "execution_count": null,
   "id": "6e658e63-5ffc-40d1-b94c-fc4534114d01",
   "metadata": {},
   "outputs": [],
   "source": [
    "fig = plt.figure\n",
    "subplot = plt.subplot\n",
    "imshow = plt.imshow\n",
    "imread = cv.imread"
   ]
  }
 ],
 "metadata": {
  "kernelspec": {
   "display_name": "Python 3 (ipykernel)",
   "language": "python",
   "name": "python3"
  },
  "language_info": {
   "codemirror_mode": {
    "name": "ipython",
    "version": 3
   },
   "file_extension": ".py",
   "mimetype": "text/x-python",
   "name": "python",
   "nbconvert_exporter": "python",
   "pygments_lexer": "ipython3",
   "version": "3.10.7"
  }
 },
 "nbformat": 4,
 "nbformat_minor": 5
}
